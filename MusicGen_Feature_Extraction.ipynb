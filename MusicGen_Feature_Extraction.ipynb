{
  "nbformat": 4,
  "nbformat_minor": 0,
  "metadata": {
    "colab": {
      "provenance": [],
      "authorship_tag": "ABX9TyN4N8wDo2duXMYN2m5hqDUk",
      "include_colab_link": true
    },
    "kernelspec": {
      "name": "python3",
      "display_name": "Python 3"
    },
    "language_info": {
      "name": "python"
    }
  },
  "cells": [
    {
      "cell_type": "markdown",
      "metadata": {
        "id": "view-in-github",
        "colab_type": "text"
      },
      "source": [
        "<a href=\"https://colab.research.google.com/github/jaeheek03/git-practice/blob/master/MusicGen_Feature_Extraction.ipynb\" target=\"_parent\"><img src=\"https://colab.research.google.com/assets/colab-badge.svg\" alt=\"Open In Colab\"/></a>"
      ]
    },
    {
      "cell_type": "markdown",
      "source": [
        "Install MusicGen (from MusicGen Gradio Demo Colab Notebook)"
      ],
      "metadata": {
        "id": "NPwlZiP40BKL"
      }
    },
    {
      "cell_type": "code",
      "execution_count": null,
      "metadata": {
        "colab": {
          "base_uri": "https://localhost:8080/"
        },
        "id": "u7qSmpqrz-c-",
        "outputId": "2ffe1c14-9ddc-4fdc-8a60-a491ab49a282"
      },
      "outputs": [
        {
          "output_type": "stream",
          "name": "stdout",
          "text": [
            "Running stage git clone\n",
            "Running stage pip install\n"
          ]
        }
      ],
      "source": [
        "# @title Execute first for installing AudioCraft\n",
        "# @markdown Execute this cell to install AudioCraft. (**Note:** the `pip install` stage might take a while.)\n",
        "from pathlib import Path\n",
        "import subprocess as sp\n",
        "from shutil import rmtree\n",
        "import re\n",
        "import time\n",
        "\n",
        "def run_log_on_fail(name, *args, **kwargs):\n",
        "    log = log_folder / (name + \".log\")\n",
        "    print(\"Running stage\", name)\n",
        "    try:\n",
        "        sp.run(*args, **kwargs, stdout=open(log, 'w'), stderr=sp.STDOUT, check=True)\n",
        "    except sp.CalledProcessError:\n",
        "        print(f\"Stage {name} failed, this is NOT expected, see logs hereafter.\")\n",
        "        print(open(log, 'r').read())\n",
        "        raise\n",
        "    else:\n",
        "        return log\n",
        "\n",
        "def install():\n",
        "    global log_folder\n",
        "    ac_folder = Path('/content/audiocraft')\n",
        "    log_folder = Path('/content/logs')\n",
        "    log_folder.mkdir(exist_ok=True, parents=True)\n",
        "    if ac_folder.exists():\n",
        "        rmtree(ac_folder)\n",
        "    try:\n",
        "        run_log_on_fail(\"git clone\", [\"git\", \"clone\", \"https://github.com/facebookresearch/audiocraft\"], cwd=ac_folder.parent)\n",
        "        run_log_on_fail(\"pip install\", [\"pip\", \"install\", \"-e\", \".\"], cwd=ac_folder)\n",
        "        pass\n",
        "    except sp.CalledProcessError:\n",
        "        print(\"INSTALLATION FAILED...\")\n",
        "        return\n",
        "\n",
        "install()"
      ]
    },
    {
      "cell_type": "markdown",
      "source": [
        "Load pre-trained MusicGen model"
      ],
      "metadata": {
        "id": "m2gBrw820MNY"
      }
    },
    {
      "cell_type": "code",
      "source": [
        "from audiocraft.models import MusicGen\n",
        "model = MusicGen.get_pretrained('facebook/musicgen-melody')\n"
      ],
      "metadata": {
        "colab": {
          "base_uri": "https://localhost:8080/",
          "height": 332
        },
        "id": "N2IubnhR0LoM",
        "outputId": "4367b6a1-2c2d-489e-a344-d59369ee3357"
      },
      "execution_count": null,
      "outputs": [
        {
          "output_type": "error",
          "ename": "ModuleNotFoundError",
          "evalue": "No module named 'audiocraft.models'",
          "traceback": [
            "\u001b[0;31m---------------------------------------------------------------------------\u001b[0m",
            "\u001b[0;31mModuleNotFoundError\u001b[0m                       Traceback (most recent call last)",
            "\u001b[0;32m<ipython-input-2-fd1e6df70094>\u001b[0m in \u001b[0;36m<cell line: 1>\u001b[0;34m()\u001b[0m\n\u001b[0;32m----> 1\u001b[0;31m \u001b[0;32mfrom\u001b[0m \u001b[0maudiocraft\u001b[0m\u001b[0;34m.\u001b[0m\u001b[0mmodels\u001b[0m \u001b[0;32mimport\u001b[0m \u001b[0mMusicGen\u001b[0m\u001b[0;34m\u001b[0m\u001b[0;34m\u001b[0m\u001b[0m\n\u001b[0m\u001b[1;32m      2\u001b[0m \u001b[0mmodel\u001b[0m \u001b[0;34m=\u001b[0m \u001b[0mMusicGen\u001b[0m\u001b[0;34m.\u001b[0m\u001b[0mget_pretrained\u001b[0m\u001b[0;34m(\u001b[0m\u001b[0;34m'facebook/musicgen-melody'\u001b[0m\u001b[0;34m)\u001b[0m\u001b[0;34m\u001b[0m\u001b[0;34m\u001b[0m\u001b[0m\n",
            "\u001b[0;31mModuleNotFoundError\u001b[0m: No module named 'audiocraft.models'",
            "",
            "\u001b[0;31m---------------------------------------------------------------------------\u001b[0;32m\nNOTE: If your import is failing due to a missing package, you can\nmanually install dependencies using either !pip or !apt.\n\nTo view examples of installing some common dependencies, click the\n\"Open Examples\" button below.\n\u001b[0;31m---------------------------------------------------------------------------\u001b[0m\n"
          ],
          "errorDetails": {
            "actions": [
              {
                "action": "open_url",
                "actionText": "Open Examples",
                "url": "/notebooks/snippets/importing_libraries.ipynb"
              }
            ]
          }
        }
      ]
    },
    {
      "cell_type": "markdown",
      "source": [
        "Set generation parameters"
      ],
      "metadata": {
        "id": "C74GJvta0TPb"
      }
    },
    {
      "cell_type": "code",
      "source": [
        "model.set_generation_params(duration=8)  # Adjust duration as needed.\n"
      ],
      "metadata": {
        "id": "-F2SP0kc0U3Q"
      },
      "execution_count": null,
      "outputs": []
    },
    {
      "cell_type": "markdown",
      "source": [
        "Generate audio representations"
      ],
      "metadata": {
        "id": "e7ykhd8x0Y3X"
      }
    },
    {
      "cell_type": "code",
      "source": [
        "wav = model.generate_unconditional(4)  # Adjust the number of samples as needed.\n"
      ],
      "metadata": {
        "id": "fEEZlEWl0a1P"
      },
      "execution_count": null,
      "outputs": []
    },
    {
      "cell_type": "code",
      "source": [
        "pip install -U datasets\n",
        "pip install git+https://github.com/huggingface/transformers.git@main"
      ],
      "metadata": {
        "id": "IjU3Ymljo0Tu"
      },
      "execution_count": null,
      "outputs": []
    },
    {
      "cell_type": "code",
      "source": [
        "from datasets import load_dataset, Audio\n",
        "from transformers import EncodecModel, AutoProcessor\n",
        "\n",
        "# dummy dataset, however you can swap this with an dataset on the 🤗 hub or bring your own\n",
        "librispeech_dummy = load_dataset(\"hf-internal-testing/librispeech_asr_dummy\", \"clean\", split=\"validation\")\n",
        "\n",
        "# load the model + processor (for pre-processing the audio)\n",
        "model = EncodecModel.from_pretrained(\"facebook/encodec_24khz\")\n",
        "processor = AutoProcessor.from_pretrained(\"facebook/encodec_24khz\")\n",
        "\n",
        "# cast the audio data to the correct sampling rate for the model\n",
        "librispeech_dummy = librispeech_dummy.cast_column(\"audio\", Audio(sampling_rate=processor.sampling_rate))\n",
        "audio_sample = librispeech_dummy[0][\"audio\"][\"array\"]\n",
        "\n",
        "# pre-process the inputs\n",
        "inputs = processor(raw_audio=audio_sample, sampling_rate=processor.sampling_rate, return_tensors=\"pt\")\n",
        "\n",
        "# explicitly encode then decode the audio inputs\n",
        "encoder_outputs = model.encode(inputs[\"input_values\"], inputs[\"padding_mask\"])\n",
        "audio_values = model.decode(encoder_outputs.audio_codes, encoder_outputs.audio_scales, inputs[\"padding_mask\"])[0]\n",
        "\n",
        "# or the equivalent with a forward pass\n",
        "audio_values = model(inputs[\"input_values\"], inputs[\"padding_mask\"]).audio_values\n",
        "\n",
        "# you can also extract the discrete codebook representation for LM tasks\n",
        "# output: concatenated tensor of all the representations\n",
        "audio_codes = model(inputs[\"input_values\"], inputs[\"padding_mask\"]).audio_codes\n"
      ],
      "metadata": {
        "id": "kC88bMH3pAGK"
      },
      "execution_count": null,
      "outputs": []
    },
    {
      "cell_type": "code",
      "source": [
        "pip install -U encodec  # stable release\n",
        "pip install -U git+https://git@github.com/facebookresearch/encodec#egg=encodec  # bleeding edge\n",
        "# of if you cloned the repo locally\n",
        "pip install ."
      ],
      "metadata": {
        "id": "o-4aIwQ1pJOb"
      },
      "execution_count": null,
      "outputs": []
    }
  ]
}